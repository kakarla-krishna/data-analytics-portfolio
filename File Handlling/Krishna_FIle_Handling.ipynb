{
 "cells": [
  {
   "cell_type": "code",
   "execution_count": 1,
   "id": "cf16be43-dd4f-403f-acd4-64ac4fc152b9",
   "metadata": {},
   "outputs": [],
   "source": [
    "import os\n",
    "import csv\n",
    "import json"
   ]
  },
  {
   "cell_type": "code",
   "execution_count": 2,
   "id": "4ef84821-6a6e-475a-a72f-20ac23759dcb",
   "metadata": {},
   "outputs": [],
   "source": [
    "def load_data(main_folder):\n",
    "    sales_data = {}\n",
    "    product_details = {}\n",
    "    product_descriptions = {}\n",
    "\n",
    "    # Load sales data\n",
    "    try:\n",
    "        with open(f\"{main_folder}/sales_data.csv\", newline='') as file:\n",
    "            reader = csv.reader(file)\n",
    "            headers = next(reader)  # Skip header\n",
    "            for row in reader:\n",
    "                sku = row[0]\n",
    "                sales = list(map(int, row[1:]))\n",
    "                sales_data[sku] = sales\n",
    "    except FileNotFoundError:\n",
    "        print(\"Sales data file not found. Starting with empty sales_data.\")\n",
    "\n",
    "    # Load product details\n",
    "    details_folder = os.path.join(main_folder, \"product_details\")\n",
    "    if os.path.exists(details_folder):\n",
    "        for filename in os.listdir(details_folder):\n",
    "            if filename.endswith(\".json\"):\n",
    "                sku = filename.replace(\"details_\", \"\").replace(\".json\", \"\")\n",
    "                with open(os.path.join(details_folder, filename)) as file:\n",
    "                    product_details[sku] = json.load(file)\n",
    "\n",
    "    # Load product descriptions\n",
    "    description_dir = os.path.join(main_folder, 'product_descriptions')\n",
    "    for file_name in os.listdir(description_dir):\n",
    "        txt_file_path = os.path.join(description_dir, file_name)\n",
    "        with open(txt_file_path, 'r') as txt_file:\n",
    "            sku = file_name.replace(\"_\", \".\").split(\".\")[1]\n",
    "            product_descriptions[sku] = txt_file.read()\n",
    "\n",
    "    return sales_data, product_details, product_descriptions"
   ]
  },
  {
   "cell_type": "code",
   "execution_count": 4,
   "id": "d39afb4b-6967-49d0-9571-5a0af64b4cb8",
   "metadata": {},
   "outputs": [],
   "source": [
    "# Path and this cell is to load the file\n",
    "main_folder = \"C:/mainfolder\"\n",
    "product_details, sales_data, product_descriptions = load_data(main_folder)"
   ]
  },
  {
   "cell_type": "code",
   "execution_count": 5,
   "id": "281f858a-01c6-4e74-9943-99b1f7455f10",
   "metadata": {},
   "outputs": [],
   "source": [
    "def update_sales_data(sales_data, sku, quantities):\n",
    "\n",
    "    # Directly add new entry to sales data dictionary\n",
    "    sales_data[sku] = quantities\n",
    "\n",
    "    return sales_data"
   ]
  },
  {
   "cell_type": "code",
   "execution_count": 6,
   "id": "b01965fc-7659-47bb-bcb4-749ccf35abf1",
   "metadata": {},
   "outputs": [
    {
     "data": {
      "text/plain": [
       "{'AISJDKFJW93NJ': {'product_name': 'Wall Art Print',\n",
       "  'brand': 'ArtCraft',\n",
       "  'model': 'NatureCanvas-1001',\n",
       "  'specifications': 'Canvas print, Ready to hang',\n",
       "  'price': '$49.99',\n",
       "  'availability': 'In stock'},\n",
       " 'DJKFIEI432FIE': {'product_name': \"Men's Running Shoes\",\n",
       "  'brand': 'RunFit',\n",
       "  'model': 'SpeedX-500',\n",
       "  'specifications': 'Size 10, Lightweight design, Breathable material',\n",
       "  'price': '$79.99',\n",
       "  'availability': 'In stock'},\n",
       " 'GGOENEBJ079499': {'product_name': 'Smartphone',\n",
       "  'brand': 'XYZ Electronics',\n",
       "  'model': 'ABC-2000',\n",
       "  'specifications': '6.5-inch display, 128GB storage, 16MP camera',\n",
       "  'price': '$499.99',\n",
       "  'availability': 'In stock'},\n",
       " 'HJSKNWK429DJE': {'product_name': 'Wireless Earbuds',\n",
       "  'brand': 'SoundSync',\n",
       "  'model': 'TunePro-2022',\n",
       "  'specifications': 'Bluetooth 5.0, 20 hours battery life, Touch controls',\n",
       "  'price': '$89.99',\n",
       "  'availability': 'In stock'},\n",
       " 'JFKL3940NFKLJ': {'product_name': 'Resistance Bands Set',\n",
       "  'brand': 'FitFlex',\n",
       "  'model': 'StrengthPro-300',\n",
       "  'specifications': '5 bands, Varying resistance levels, Portable',\n",
       "  'price': '$34.99',\n",
       "  'availability': 'In stock'},\n",
       " 'LKDFJ49LSDJKL': {'product_name': 'Anti-Aging Face Cream',\n",
       "  'brand': 'GlowBeauty',\n",
       "  'model': 'AgeDefy-300',\n",
       "  'specifications': 'Natural ingredients, Hydrating formula',\n",
       "  'price': '$39.99',\n",
       "  'availability': 'In stock'},\n",
       " 'MWKDI3JFK39SL': {'product_name': 'Fictional Novel',\n",
       "  'brand': 'BestBooks',\n",
       "  'model': None,\n",
       "  'specifications': 'Paperback, 300 pages',\n",
       "  'price': '$14.99',\n",
       "  'availability': 'In stock'},\n",
       " 'NEKFJOWE9FDIW': {'product_name': 'Board Game',\n",
       "  'brand': 'FamilyFun',\n",
       "  'model': 'GameNight-2022',\n",
       "  'specifications': '2-6 players, Ages 8 and up',\n",
       "  'price': '$29.99',\n",
       "  'availability': 'In stock'},\n",
       " 'OWEJL398FWJLK': {'product_name': 'Yoga Mat',\n",
       "  'brand': 'ZenFitness',\n",
       "  'model': 'EcoMat-500',\n",
       "  'specifications': 'Non-slip, 6mm thickness, Eco-friendly material',\n",
       "  'price': '$19.99',\n",
       "  'availability': 'In stock'},\n",
       " 'XPLFJW2490XJN': {'product_name': 'Robot Vacuum Cleaner',\n",
       "  'brand': 'CleanTech',\n",
       "  'model': 'AutoSweep-9000',\n",
       "  'specifications': 'Smart navigation, HEPA filter, 90 minutes runtime',\n",
       "  'price': '$249.99',\n",
       "  'availability': 'In stock'},\n",
       " 'CMWKCILOP27KF': [8, 14, 16, 7, 15, 21, 14, 16, 32, 29, 26, 30, 25, 22]}"
      ]
     },
     "execution_count": 6,
     "metadata": {},
     "output_type": "execute_result"
    }
   ],
   "source": [
    "sales_data = update_sales_data(sales_data,\n",
    "                            'CMWKCILOP27KF',\n",
    "                             [8, 14, 16, 7, 15, 21, 14, 16, 32, 29, 26, 30, 25, 22])\n",
    "sales_data"
   ]
  },
  {
   "cell_type": "code",
   "execution_count": 7,
   "id": "c3ba86c2-7088-4157-b431-381decf69da6",
   "metadata": {},
   "outputs": [],
   "source": [
    "def update_product_details(product_details, sku, product_info):\n",
    "\n",
    "    # Add the new product details to the product details dictionary using the SKU as the key\n",
    "    product_details[sku] = product_info\n",
    "\n",
    "    return product_details"
   ]
  },
  {
   "cell_type": "code",
   "execution_count": 8,
   "id": "202eb09a-0032-4e6d-942c-55418ffc89e4",
   "metadata": {},
   "outputs": [
    {
     "data": {
      "text/plain": [
       "{'AISJDKFJW93NJ': [10, 12, 15, 18, 20, 22, 25, 28, 26, 30, 32, 29, 27, 24],\n",
       " 'DJKFIEI432FIE': [8, 10, 12, 15, 20, 18, 14, 13, 17, 10, 8, 11, 14, 16],\n",
       " 'GGOENEBJ079499': [15, 18, 22, 25, 28, 20, 17, 23, 19, 21, 24, 27, 18, 20],\n",
       " 'HJSKNWK429DJE': [30, 32, 35, 38, 40, 42, 45, 48, 50, 52, 55, 53, 49, 47],\n",
       " 'JFKL3940NFKLJ': [18, 20, 22, 25, 28, 30, 32, 35, 38, 36, 33, 29, 26, 24],\n",
       " 'LKDFJ49LSDJKL': [25, 28, 30, 32, 35, 38, 42, 40, 37, 34, 36, 31, 29, 27],\n",
       " 'MWKDI3JFK39SL': [30, 35, 40, 45, 50, 42, 37, 38, 41, 36, 33, 39, 40, 44],\n",
       " 'NEKFJOWE9FDIW': [12, 15, 18, 20, 22, 24, 21, 23, 25, 28, 30, 27, 26, 29],\n",
       " 'OWEJL398FWJLK': [20, 22, 25, 28, 30, 32, 35, 38, 36, 33, 29, 26, 24, 27],\n",
       " 'XPLFJW2490XJN': [5, 8, 9, 12, 15, 10, 14, 16, 20, 18, 22, 25, 19, 21],\n",
       " 'CMWKCILOP27KF': {'product_name': 'Pokemon Card',\n",
       "  'brand': 'GameFreak',\n",
       "  'model': 'ScarletViolet151',\n",
       "  'specifications': 'Genuine, TCG, English',\n",
       "  'price': '$1.99',\n",
       "  'availability': 'In stock'}}"
      ]
     },
     "execution_count": 8,
     "metadata": {},
     "output_type": "execute_result"
    }
   ],
   "source": [
    "product_details = update_product_details(product_details,\n",
    "                                 'CMWKCILOP27KF',\n",
    "                                  {'product_name': 'Pokemon Card',\n",
    "                                   'brand': 'GameFreak',\n",
    "                                   'model': 'ScarletViolet151',\n",
    "                                   'specifications': 'Genuine, TCG, English',\n",
    "                                   'price': '$1.99',\n",
    "                                   'availability': 'In stock'})\n",
    "product_details"
   ]
  },
  {
   "cell_type": "code",
   "execution_count": 9,
   "id": "3be2fe86-3c7d-4a78-9392-60abddf32a7f",
   "metadata": {},
   "outputs": [],
   "source": [
    "def update_product_description(product_descriptions, sku, description):\n",
    "    \n",
    "    # Add the new product description to the dictionary\n",
    "    product_descriptions[sku] = description\n",
    "\n",
    "    return product_descriptions"
   ]
  },
  {
   "cell_type": "code",
   "execution_count": 10,
   "id": "76cfc58d-94bd-477d-80f3-aff4a090d6c8",
   "metadata": {},
   "outputs": [
    {
     "data": {
      "text/plain": [
       "{'AISJDKFJW93NJ': \"Transform your living space with ArtCraft's NatureCanvas-1001 Wall Art Print.\\nThis canvas print, ready to hang, brings the beauty of nature into your home.\\nWith dimensions of 16 x 20 inches and a 4.6/5 stars rating, it's a stunning addition to your decor, creating a focal point that captures attention and sparks conversation.\",\n",
       " 'DJKFIEI432FIE': \"Elevate your running experience with the RunFit SpeedX-500 Men's Running Shoes.\\nDesigned for performance, these shoes feature a lightweight design, breathable material, and are available in vibrant Red, Blue, and classic Black.\\nWhether you're a seasoned runner or just starting, these shoes provide comfort and support for every stride, ensuring you reach new milestones effortlessly.\",\n",
       " 'GGOENEBJ079499': 'Dive into the future with the XYZ Electronics Smartphone, model ABC-2000.\\nBoasting a 6.5-inch display, 128GB storage, and a 16MP camera, this powerful device redefines the smartphone experience.\\nWith a sleek design and available in Black, Silver, and Blue, it combines cutting-edge technology with style, ensuring you stay connected in the most sophisticated way possible.',\n",
       " 'HJSKNWK429DJE': \"Immerse yourself in superior audio quality with SoundSync's TunePro-2022 Wireless Earbuds.\\nFeaturing Bluetooth 5.0, 20 hours of battery life, and touch controls, these earbuds deliver a seamless and immersive listening experience.\\nAvailable in Black and White, they combine style with functionality for music lovers on the go. \\nWith a 4.7/5 stars rating, they stand out as a top choice in the realm of wireless audio.\",\n",
       " 'JFKL3940NFKLJ': \"Embrace versatility in your workouts with FitFlex's StrengthPro-300 Resistance Bands Set.\\nWith 5 bands offering varying resistance levels and portability, this set is your go-to for effective strength training.\\nAvailable in Red, Yellow, and Blue, it caters to different fitness levels and adds a dynamic dimension to your exercise routine.\",\n",
       " 'LKDFJ49LSDJKL': \"Rediscover youthful radiance with GlowBeauty's AgeDefy-300 Anti-Aging Face Cream.\\nFormulated with natural ingredients and a hydrating formula, this skincare essential rejuvenates and nourishes your skin, leaving you with a vibrant and refreshed complexion.\\nWith a stellar 4.7/5 stars rating, it's a must-have for those embracing the journey to ageless beauty.\",\n",
       " 'MWKDI3JFK39SL': \"Immerse yourself in the world of storytelling with BestBooks' Fictional Novel.\\nThis paperback, spanning 300 pages, promises a captivating journey through the pages of an engaging narrative.\\nIdeal for avid readers seeking an escape, this novel, with a 4.6/5 stars rating, is a testament to its ability to weave a compelling tale that keeps you hooked until the last page.\",\n",
       " 'NEKFJOWE9FDIW': \"Unleash the fun with FamilyFun's GameNight-2022 Board Game.\\nDesigned for 2-6 players and suitable for ages 8 and up, this exciting game promises laughter and bonding moments for the entire family.\\nWith a 4.4/5 stars rating, it's a testament to its ability to turn any ordinary night into an extraordinary game night filled with friendly competition and shared joy.\",\n",
       " 'OWEJL398FWJLK': \"Elevate your yoga practice with ZenFitness' EcoMat-500 Yoga Mat.\\nFeaturing a non-slip surface, 6mm thickness, and eco-friendly materials, this high-quality mat provides the perfect foundation for your workouts.\\nAvailable in Purple, Green, and Blue, it not only enhances your comfort but also adds a touch of serenity to your exercise routine.\",\n",
       " 'XPLFJW2490XJN': 'Introducing the CleanTech AutoSweep-9000 Robot Vacuum Cleaner â€“ your smart companion for automated cleaning.\\nWith smart navigation, a HEPA filter, and a runtime of 90 minutes, this efficient device takes care of your cleaning needs.\\nAvailable in White and Silver, it blends seamlessly into your home, making cleanliness a hassle-free experience.',\n",
       " 'CMWKCILOP27KF': 'Original Pokemon TCG Pikachu card'}"
      ]
     },
     "execution_count": 10,
     "metadata": {},
     "output_type": "execute_result"
    }
   ],
   "source": [
    "product_descriptions = update_product_description(product_descriptions,\n",
    "                                      'CMWKCILOP27KF',\n",
    "                                      'Original Pokemon TCG Pikachu card')\n",
    "product_descriptions"
   ]
  },
  {
   "cell_type": "code",
   "execution_count": 11,
   "id": "69eccf9f-b515-48d3-a0bf-488928f60004",
   "metadata": {},
   "outputs": [],
   "source": [
    "def update_sales_data(sku, sales_list):\n",
    "    sales_data[sku] = sales_list\n",
    "\n",
    "def update_product_details(sku, name, brand, model, specs, price, availability):\n",
    "    product_details[sku] = {\n",
    "        \"name\": name,\n",
    "        \"brand\": brand,\n",
    "        \"model\": model,\n",
    "        \"specifications\": specs,\n",
    "        \"price\": price,\n",
    "        \"availability\": availability\n",
    "    }\n",
    "\n",
    "def update_product_description(sku, description):\n",
    "    product_descriptions[sku] = description\n"
   ]
  },
  {
   "cell_type": "code",
   "execution_count": 12,
   "id": "7b6ce021-a284-4d7e-8442-c02f954f64d5",
   "metadata": {},
   "outputs": [],
   "source": [
    "def update():\n",
    "    sku = input(\"Enter Product SKU (13 characters): \").strip()\n",
    "    if len(sku) != 13:\n",
    "        print(\"Error: SKU must be exactly 13 characters long.\")\n",
    "        return\n",
    "\n",
    "    sales_input = input(\"Enter 14 sales numbers separated by spaces: \").strip().split()\n",
    "    if len(sales_input) != 14 or not all(item.isdigit() for item in sales_input):\n",
    "        print(\"Error: You must enter 14 whole numbers.\")\n",
    "        return\n",
    "    sales_list = list(map(int, sales_input))\n",
    "\n",
    "    name = input(\"Product name: \").strip()\n",
    "    brand = input(\"Brand: \").strip()\n",
    "    model = input(\"Model: \").strip()\n",
    "    specs = input(\"Specifications: \").strip()\n",
    "    price = input(\"Price: \").strip()\n",
    "    availability = input(\"Availability: \").strip()\n",
    "\n",
    "    description = input('Enter the product description: ')\n",
    "\n",
    "\n",
    "    update_sales_data(sku, sales_list)\n",
    "    update_product_details(sku, name, brand, model, specs, price, availability)\n",
    "    update_product_description(sku, description)\n",
    "\n",
    "    print(\"Product successfully added/updated.\")\n",
    "    return sales_data, product_details, product_descriptions"
   ]
  },
  {
   "cell_type": "code",
   "execution_count": 13,
   "id": "13d2321d-d7a7-482a-92cc-3735413c9d1e",
   "metadata": {},
   "outputs": [
    {
     "name": "stdin",
     "output_type": "stream",
     "text": [
      "Enter Product SKU (13 characters):  XHSKDMDKD99KK\n",
      "Enter 14 sales numbers separated by spaces:  23 44 33 4 12 2 21 34 6 8 55 86 65 32\n",
      "Product name:  Shirt\n",
      "Brand:  Puma\n",
      "Model:  Neo Sports\n",
      "Specifications:  Black\n",
      "Price:  1234\n",
      "Availability:  In Stock\n",
      "Enter the product description:  Unleash the fun with FamilyFun's GameNight-2022 Board Game.\n"
     ]
    },
    {
     "name": "stdout",
     "output_type": "stream",
     "text": [
      "Product successfully added/updated.\n"
     ]
    }
   ],
   "source": [
    "sales_data, product_details, product_descriptions = update()"
   ]
  },
  {
   "cell_type": "code",
   "execution_count": 14,
   "id": "919362d8-9c5d-4fdb-876b-3d60016b6063",
   "metadata": {},
   "outputs": [],
   "source": [
    "def dump_data(sales_data, product_details, product_descriptions, main_folder):\n",
    "    os.makedirs(main_folder, exist_ok=True)\n",
    "    os.makedirs(os.path.join(main_folder, \"product_details\"), exist_ok=True)\n",
    "    os.makedirs(os.path.join(main_folder, \"product_descriptions\"), exist_ok=True)\n",
    "\n",
    "    # Dump sales data to CSV\n",
    "    csv_file_path = os.path.join(main_folder, 'sales_data.csv')\n",
    "    with open(csv_file_path, 'w') as csv_file:\n",
    "        fieldnames = ['Product_SKU', *map(str, range(1, 15))]  # field names for SKU and 14 days as strings\n",
    "        csv_writer = csv.DictWriter(csv_file, fieldnames=fieldnames)\n",
    "        csv_writer.writeheader()\n",
    "        for sku, quantities in sales_data.items():\n",
    "            row = {'Product_SKU': sku}\n",
    "            for i, q in enumerate(quantities, start=1):\n",
    "                row[str(i)] = q\n",
    "            csv_writer.writerow(row)\n",
    "\n",
    "    # Dump product details as JSON\n",
    "    for sku, details in product_details.items():\n",
    "        with open(os.path.join(main_folder, \"product_details\", f\"details_{sku}.json\"), \"w\") as file:\n",
    "            json.dump(details, file, indent=2)\n",
    "\n",
    "    # Dump descriptions as TXT\n",
    "    for sku, desc in product_descriptions.items():\n",
    "        with open(os.path.join(main_folder, \"product_descriptions\", f\"description_{sku}.txt\"), \"w\") as file:\n",
    "            file.write(desc)\n",
    "\n",
    "    print(\"Data dumped back into folder successfully.\")\n"
   ]
  },
  {
   "cell_type": "code",
   "execution_count": 15,
   "id": "82607b36-1412-4fd1-8283-dafdf5226e24",
   "metadata": {},
   "outputs": [
    {
     "name": "stdout",
     "output_type": "stream",
     "text": [
      "Data dumped back into folder successfully.\n"
     ]
    }
   ],
   "source": [
    "dump_data(sales_data, product_details, product_descriptions, main_folder)"
   ]
  },
  {
   "cell_type": "code",
   "execution_count": null,
   "id": "7db4c279-34a8-4dd0-a1d5-769e9c916ab4",
   "metadata": {},
   "outputs": [],
   "source": []
  }
 ],
 "metadata": {
  "kernelspec": {
   "display_name": "Python 3 (ipykernel)",
   "language": "python",
   "name": "python3"
  },
  "language_info": {
   "codemirror_mode": {
    "name": "ipython",
    "version": 3
   },
   "file_extension": ".py",
   "mimetype": "text/x-python",
   "name": "python",
   "nbconvert_exporter": "python",
   "pygments_lexer": "ipython3",
   "version": "3.12.7"
  }
 },
 "nbformat": 4,
 "nbformat_minor": 5
}
